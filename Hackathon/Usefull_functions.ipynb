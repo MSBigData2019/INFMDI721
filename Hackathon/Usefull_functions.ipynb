{
 "cells": [
  {
   "cell_type": "markdown",
   "metadata": {},
   "source": [
    "# Exemple multi thread"
   ]
  },
  {
   "cell_type": "code",
   "execution_count": null,
   "metadata": {},
   "outputs": [],
   "source": [
    "#Creation d'un verrou : un seul thread peut accéder à un bout de code en question\n",
    "verrou = RLock()\n",
    "\n",
    "\n",
    "def une_fonction(params):\n",
    "    \"\"\"exemple d'utilisation d'un verrou\"\"\"\n",
    "    \n",
    "    with verrou :\n",
    "        #action1\n",
    "        #action2\n",
    "        #...\n",
    "        \n",
    "        \n",
    "class thread_func(Thread):\n",
    "    \n",
    "\n",
    "    \"\"\"Thread in charge of loading information about a given Github user\"\"\"\n",
    "\n",
    "\n",
    "    def __init__(self, params):\n",
    "\n",
    "        Thread.__init__(self)\n",
    "\n",
    "        self.params = params\n",
    "\n",
    "    def run(self):\n",
    "        \"function to exec in the thread here\""
   ]
  },
  {
   "cell_type": "markdown",
   "metadata": {},
   "source": [
    "# Beautiful Soup "
   ]
  },
  {
   "cell_type": "code",
   "execution_count": null,
   "metadata": {},
   "outputs": [],
   "source": []
  },
  {
   "cell_type": "markdown",
   "metadata": {},
   "source": [
    "# Pandas"
   ]
  },
  {
   "cell_type": "code",
   "execution_count": null,
   "metadata": {},
   "outputs": [],
   "source": []
  }
 ],
 "metadata": {
  "kernelspec": {
   "display_name": "Python 3",
   "language": "python",
   "name": "python3"
  },
  "language_info": {
   "codemirror_mode": {
    "name": "ipython",
    "version": 3
   },
   "file_extension": ".py",
   "mimetype": "text/x-python",
   "name": "python",
   "nbconvert_exporter": "python",
   "pygments_lexer": "ipython3",
   "version": "3.7.0"
  }
 },
 "nbformat": 4,
 "nbformat_minor": 2
}
